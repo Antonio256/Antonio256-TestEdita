{
 "cells": [
  {
   "cell_type": "markdown",
   "id": "6e24ff88-1392-49de-bb4e-72dcd433457b",
   "metadata": {},
   "source": [
    "#In this notebook, Data Science Tools and Ecosystem are summarized.\n"
   ]
  },
  {
   "cell_type": "markdown",
   "id": "f0c08a0d-0071-4238-b00d-417daa25dc33",
   "metadata": {},
   "source": [
    "## In this notebook, Data Science Tools and Ecosystem are summarized\n",
    "\n",
    "\n",
    "\n"
   ]
  },
  {
   "cell_type": "markdown",
   "id": "859f196e-33b0-4d16-827d-d16f10fdb169",
   "metadata": {},
   "source": [
    "**Objectives**\n",
    "\n",
    "-Python.\n",
    "-SQL.\n",
    "-R.\n",
    "-VBA (Visual Basic for Applications)\n",
    "-Julia\n",
    "-JavaScript\n"
   ]
  },
  {
   "cell_type": "markdown",
   "id": "7aa02c28-7954-47e5-9d4c-cd7d3b4c3353",
   "metadata": {},
   "source": [
    "Some of the popular languages that Data Scientists use are:\n",
    "1. Python\n",
    "2. SQL\n",
    "3. R\n",
    "4. Julia"
   ]
  },
  {
   "cell_type": "markdown",
   "id": "f734f079-5b29-4f2b-9109-dadf6e4a1ec7",
   "metadata": {},
   "source": [
    "Some of the commonly used libraries used by Data Scientists include:\n",
    "1. TensorFlow\n",
    "2. Numpy\n",
    "3. SciKit-Learn."
   ]
  },
  {
   "cell_type": "markdown",
   "id": "c2fea783-c1e4-4d24-a695-a2929715f46a",
   "metadata": {},
   "source": [
    "|Data Science Tools|\n",
    " ------------------\n",
    " |Tableau|\n",
    " |Apache|\n",
    " |Hadoop|"
   ]
  },
  {
   "cell_type": "markdown",
   "id": "e0075135-5ee2-4f9a-8b1c-c95d79ddbecf",
   "metadata": {},
   "source": [
    "### Below are a few examples of evaluating arithmetic expressions in Python.\n"
   ]
  },
  {
   "cell_type": "markdown",
   "id": "e208838d-9b50-404d-821b-b16df6d1ab0b",
   "metadata": {},
   "source": [
    "(3*4)+5\n",
    "\n",
    "#This a simple arithmetic expression to mutiply then add integers\n",
    "\n"
   ]
  },
  {
   "cell_type": "markdown",
   "id": "34dc342f-9570-443d-b688-a0ee8a8986e4",
   "metadata": {},
   "source": []
  },
  {
   "cell_type": "markdown",
   "id": "6462096d-b6bb-43c0-8608-cab7dab88a57",
   "metadata": {},
   "source": [
    "## Author\n",
    "Anthony Atwine"
   ]
  },
  {
   "cell_type": "markdown",
   "id": "ddfdd132-6ad4-43cc-84e8-f84cfcb4d0d0",
   "metadata": {},
   "source": []
  }
 ],
 "metadata": {
  "kernelspec": {
   "display_name": "",
   "name": ""
  },
  "language_info": {
   "name": ""
  }
 },
 "nbformat": 4,
 "nbformat_minor": 5
}
